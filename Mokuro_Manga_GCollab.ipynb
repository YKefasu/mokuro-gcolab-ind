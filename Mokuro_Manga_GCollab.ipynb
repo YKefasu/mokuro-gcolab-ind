{
  "cells": [
    {
      "cell_type": "markdown",
      "metadata": {
        "id": "view-in-github",
        "colab_type": "text"
      },
      "source": [
        "<a href=\"https://colab.research.google.com/github/YKefasu/mokuro-gcolab-ind/blob/main/Mokuro_Manga_GCollab.ipynb\" target=\"_parent\"><img src=\"https://colab.research.google.com/assets/colab-badge.svg\" alt=\"Open In Colab\"/></a>"
      ]
    },
    {
      "cell_type": "markdown",
      "source": [
        "# GColab Mokuro\n",
        "---\n",
        "GUIDE Pemakaian dalam bahasa Indonesia untuk lebih lengkap cek 👉 [DISCORD](https://discord.com/channels/1075777026482520114/1309954040280387635)"
      ],
      "metadata": {
        "id": "pvm9Fggi2lUz"
      }
    },
    {
      "cell_type": "markdown",
      "source": [
        "# STEP 1️⃣\n",
        "Arakan mouse kalian dan tap klik icon PLAY, kalau ERROR Refreh aja\n",
        "\n",
        "Install System MOKURO jalankan 👇"
      ],
      "metadata": {
        "id": "UaKDKuPw2wXF"
      }
    },
    {
      "cell_type": "code",
      "execution_count": null,
      "metadata": {
        "id": "dqE8lwP9RwmJ"
      },
      "outputs": [],
      "source": [
        "#Arakan mouse kalian dan tap klik icon PLAY, kalau ERROR Refreh aja\n",
        "!pip install git+https://github.com/kha-white/mokuro.git@web-reader"
      ]
    },
    {
      "cell_type": "markdown",
      "source": [
        "# STEP 2️⃣\n",
        "Login dan Konek ke GOOGLE Drive jalankan 👇"
      ],
      "metadata": {
        "id": "rLT-Dy1keUgh"
      }
    },
    {
      "cell_type": "code",
      "execution_count": null,
      "metadata": {
        "id": "3IbKydhERyY-"
      },
      "outputs": [],
      "source": [
        "#Link your google drive here\n",
        "from google.colab import drive\n",
        "drive.mount('/content/drive')"
      ]
    },
    {
      "cell_type": "markdown",
      "source": [
        "1. Upload Folder **Manga** yg mau diProses ke Google Drive\n",
        "2. Contoh Folder Manga **Oshi no KO** dalam folder tersebut buat Folder lagi isi Volume-nya"
      ],
      "metadata": {
        "id": "S8NYlzHM2B1S"
      }
    },
    {
      "cell_type": "markdown",
      "source": [
        "# STEP 3️⃣\n"
      ],
      "metadata": {
        "id": "15owZGq1fUny"
      }
    },
    {
      "cell_type": "code",
      "execution_count": null,
      "metadata": {
        "id": "ltajWNEqSPIi"
      },
      "outputs": [],
      "source": [
        "#Untuk Proses Banyak Volume: Oshi no KO/Vol1, Oshi no KO/Vol2, Oshi no KO/Vol3, dan seterus-nya. ( PROSESNYA BAKAL LAMA BANGET )\n",
        "  #Copy PATH aja pastekan ke dalam kutip-nya\n",
        "\n",
        "!mokuro --parent_dir \"/content/drive/MyDrive/Oshi no KO\" --disable_confirmation"
      ]
    },
    {
      "cell_type": "code",
      "source": [
        "#Untuk Proses Spesifik FOLDER atau Volume\n",
        "  #Copy PATH aja pastekan ke dalam kutip-nya\n",
        "\n",
        "!mokuro \"/content/drive/MyDrive/Oshi no KO/vol3\" --disable_confirmation"
      ],
      "metadata": {
        "id": "TcBEyiUD1IwV"
      },
      "execution_count": null,
      "outputs": []
    },
    {
      "cell_type": "markdown",
      "metadata": {
        "id": "DlFQVn6se93Q"
      },
      "source": [
        "See [github page](https://github.com/ZXY101/mokuro-reader) for more info\n",
        "\n",
        "You can view my [Manga Setup] by xelieu ( https://xelieu.github.io/jp-lazy-guide/setupMangaOnPC/ )\n",
        "\n",
        "Credits to: megadziobak, ZXY101, and [xelieu](https://www.discordapp.com/users/719459399168426054)"
      ]
    }
  ],
  "metadata": {
    "accelerator": "GPU",
    "colab": {
      "provenance": [],
      "include_colab_link": true
    },
    "kernelspec": {
      "display_name": "Python 3",
      "name": "python3"
    },
    "language_info": {
      "name": "python"
    }
  },
  "nbformat": 4,
  "nbformat_minor": 0
}